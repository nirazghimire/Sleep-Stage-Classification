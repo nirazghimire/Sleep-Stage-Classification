{
 "cells": [
  {
   "cell_type": "code",
   "execution_count": null,
   "metadata": {},
   "outputs": [],
   "source": [
    "import mne\n",
    "import numpy as np\n",
    "import matplotlib.pyplot as plt\n",
    "from glob import glob\n",
    "from sklearn.preprocessing import FunctionTransformer\n",
    "from sklearn.pipeline import make_pipeline\n",
    "from sklearn.ensemble import RandomForestClassifier\n",
    "from sklearn.metrics import confusion_matrix\n",
    "from sklearn.metrics import accuracy_score\n",
    "from sklearn.metrics import classification_report\n",
    "import pandas as pd\n",
    "from sklearn.model_selection import train_test_split\n",
    "from joblib import dump,load\n"
   ]
  },
  {
   "cell_type": "code",
   "execution_count": null,
   "metadata": {},
   "outputs": [],
   "source": [
    "raw_data = (sorted(glob('/Users/niraj/Desktop/Research Works/recordings/*[0-9].edf')))\n",
    "\n",
    "annot_data = (sorted(glob('/Users/niraj/Desktop/Research Works/recordings/*sleepscoring.edf')))\n",
    "\n"
   ]
  },
  {
   "cell_type": "code",
   "execution_count": null,
   "metadata": {},
   "outputs": [],
   "source": [
    "raw_train = []\n",
    "for data in raw_data:\n",
    "    raw = mne.io.read_raw_edf(data,infer_types =True,preload=False)\n",
    "    raw_train.append(raw)\n"
   ]
  },
  {
   "cell_type": "code",
   "execution_count": null,
   "metadata": {},
   "outputs": [],
   "source": [
    "annot_train = []\n",
    "for data in annot_data:\n",
    "    annot = mne.read_annotations(data)\n",
    "    annot_train.append(annot)\n",
    "    print(annot)"
   ]
  },
  {
   "cell_type": "code",
   "execution_count": null,
   "metadata": {},
   "outputs": [],
   "source": [
    "for i in range(len(raw_data)):\n",
    "    raw_train[i].set_annotations(annot_train[i],emit_warning=False,on_missing='ignore')\n"
   ]
  },
  {
   "cell_type": "code",
   "execution_count": null,
   "metadata": {},
   "outputs": [],
   "source": [
    "# df = pd.concat((data) for data in raw_train)\n",
    "raw_train[0]"
   ]
  },
  {
   "cell_type": "code",
   "execution_count": null,
   "metadata": {},
   "outputs": [],
   "source": [
    "# raw_train[3].plot(start = 60,duration= 120,scalings= dict(eeg=1e-3,emg = 1e-2,eog=1e-4,misc=10))\n",
    "# plt.show()"
   ]
  },
  {
   "cell_type": "code",
   "execution_count": null,
   "metadata": {},
   "outputs": [],
   "source": [
    "annotations_event_id = {\"Sleep stage W\": 1,\n",
    "                       \"Sleep stage N1\": 2,\n",
    "                       \"Sleep stage N2\": 3,\n",
    "                       \"Sleep stage N3\": 4,\n",
    "                       \"Sleep stage N4\": 4,\n",
    "                       \"Sleep stage R\": 5}\n",
    "\n",
    "# events_train, _ = mne.events_from_annotations(\n",
    "#     raw_train[0], event_id=annotations_event_id, chunk_duration=30.0)"
   ]
  },
  {
   "cell_type": "code",
   "execution_count": null,
   "metadata": {},
   "outputs": [],
   "source": [
    "event_id= {'Sleep stage W': 1,\n",
    "            'Sleep stage 1': 2,\n",
    "            'Sleep stage 2': 3,\n",
    "            'Sleep stage 3/4': 4,\n",
    "            'Sleep stage R': 5}\n",
    "\n",
    "stage_colors = plt.rcParams[\"axes.prop_cycle\"].by_key()[\"color\"]\n",
    "\n"
   ]
  },
  {
   "cell_type": "code",
   "execution_count": null,
   "metadata": {},
   "outputs": [],
   "source": [
    "# tmax = 30.0  # tmax in included\n",
    "\n",
    "\n",
    "# epochs_train = mne.Epochs(raw=raw_train[100], events=events_train, on_missing='warn',\n",
    "#                           event_id=event_id, tmin=0., tmax=tmax, baseline=None)\n",
    "# print(epochs_train)\n",
    "# print(raw_train[100])"
   ]
  },
  {
   "cell_type": "code",
   "execution_count": null,
   "metadata": {},
   "outputs": [],
   "source": [
    "tmax = 30.0\n",
    "epochs_data = []\n",
    "for i in range(0,5):\n",
    "    events_train, _ = mne.events_from_annotations(\n",
    "    raw_train[i], event_id=annotations_event_id, chunk_duration=30.0)\n",
    "    epochs_train = mne.Epochs(raw=raw_train[i], events=events_train, on_missing='warn',\n",
    "                          event_id=event_id, tmin=0.0, tmax=tmax, baseline=None)\n",
    "    # epochs_train.drop_bad()\n",
    "    epochs_data.append(epochs_train)\n",
    "\n",
    "# epochs_data\n",
    "concatenated_epochs = mne.concatenate_epochs(epochs_data)\n",
    "\n",
    "\n",
    "\n",
    "\n",
    "\n",
    "# (epochs_data[0:10])\n",
    "# print(type(epochs_data))\n",
    "# concatenated_epochs = mne.concatenate_epochs(epochs_data)\n",
    "# concatenated_epochs"
   ]
  },
  {
   "cell_type": "code",
   "execution_count": null,
   "metadata": {},
   "outputs": [],
   "source": [
    "concatenated_epochs.info"
   ]
  },
  {
   "cell_type": "code",
   "execution_count": null,
   "metadata": {},
   "outputs": [],
   "source": [
    "concatenated_epochs.info['ch_names']"
   ]
  },
  {
   "cell_type": "code",
   "execution_count": null,
   "metadata": {},
   "outputs": [],
   "source": [
    "fig, (ax1) = plt.subplots(ncols=1)\n",
    "\n",
    "# iterate over the subjects\n",
    "stages = sorted(event_id.keys())\n",
    "for ax, epochs in zip([ax1], [concatenated_epochs]):\n",
    "    for stage, color in zip(stages, stage_colors):\n",
    "        spectrum = epochs[stage].compute_psd(fmin=0.1, fmax=20.0)\n",
    "        spectrum.plot(\n",
    "            ci=None,\n",
    "            color=color,\n",
    "            axes=ax,\n",
    "            show=False,\n",
    "            average=True,\n",
    "            spatial_colors=False,\n",
    "            picks=\"data\",\n",
    "            exclude=\"bads\",\n",
    "        )\n",
    "    ax.set( xlabel=\"Frequency (Hz)\")\n",
    "ax1.set(ylabel=\"µV²/Hz (dB)\")\n",
    "# ax2.legend(ax2.lines[2::3], stages)"
   ]
  },
  {
   "cell_type": "code",
   "execution_count": null,
   "metadata": {},
   "outputs": [],
   "source": [
    "concatenated_epochs.info['ch_names']\n"
   ]
  },
  {
   "cell_type": "code",
   "execution_count": null,
   "metadata": {},
   "outputs": [],
   "source": [
    "concatenated_epochs.info"
   ]
  },
  {
   "cell_type": "code",
   "execution_count": null,
   "metadata": {},
   "outputs": [],
   "source": [
    "fig, (ax1) = plt.subplots(ncols=1)\n",
    "\n",
    "# iterate over the subjects\n",
    "stages = sorted(event_id.keys())\n",
    "for ax, epochs in zip([ax1], [concatenated_epochs]):\n",
    "    for stage, color in zip(stages, stage_colors):\n",
    "        spectrum = epochs[stage].compute_psd(fmin=0.1, fmax=20.0)\n",
    "        spectrum.plot(\n",
    "            ci=None,\n",
    "            color=color,\n",
    "            axes=ax,\n",
    "            show=False,\n",
    "            average=True,\n",
    "            spatial_colors=False,\n",
    "            picks='ECG',\n",
    "            exclude=\"bads\",\n",
    "        )\n",
    "    ax.set( xlabel=\"Frequency (Hz)\")\n",
    "ax1.set(ylabel=\"µV²/Hz (dB)\")"
   ]
  },
  {
   "cell_type": "code",
   "execution_count": null,
   "metadata": {},
   "outputs": [],
   "source": [
    "tmax = 30.0\n",
    "epochs_data = []\n",
    "for i in range(10,12):\n",
    "    events_train, _ = mne.events_from_annotations(\n",
    "    raw_train[i], event_id=annotations_event_id, chunk_duration=30.0)\n",
    "    epochs_train = mne.Epochs(raw=raw_train[i], events=events_train, on_missing='warn',\n",
    "                          event_id=event_id, tmin=0.0, tmax=tmax, baseline=None)\n",
    "    # epochs_train.drop_bad()\n",
    "    epochs_data.append(epochs_train)\n",
    "\n",
    "# epochs_data\n",
    "test_epochs = mne.concatenate_epochs(epochs_data)"
   ]
  },
  {
   "cell_type": "code",
   "execution_count": null,
   "metadata": {},
   "outputs": [],
   "source": [
    "# concatenated_epochs.shape"
   ]
  },
  {
   "cell_type": "code",
   "execution_count": null,
   "metadata": {},
   "outputs": [],
   "source": [
    "# fig, (ax1,ax2)= plt.subplots(ncols=2)\n",
    "# stages= sorted(event_id.keys())\n",
    "# for ax, title, epochs in zip([ax1, ax2], [raw_train,raw_train1],[epochs_train, epochs_train1]):\n",
    "#     for stage, color in zip(stages, stage_colors):\n",
    "#         spectrum = epochs[stage].compute_psd(fmin=0.1,fmax=30.0)\n",
    "#         # print(\"This is stage: \",stage)\n",
    "#         spectrum.plot(ci=None,color=color,axes=ax,show=False,average=True,spatial_colors=False,picks='all',exclude='bads')\n",
    "#     ax.set(title=title,xlabel='Frequency(Hz)')\n",
    "# ax1.set(ylabel='µV²/Hz (dB)')\n",
    "\n",
    "# ax2.legend(ax2.lines[2::3],stages)\n",
    "# ax1.legend(ax1.lines[2::3],stages)\n",
    "# plt.show()"
   ]
  },
  {
   "cell_type": "code",
   "execution_count": null,
   "metadata": {},
   "outputs": [],
   "source": [
    "def eeg_power_band(epochs):\n",
    "    \"\"\"EEG relative power band feature extraction.\n",
    "\n",
    "    This function takes an ``mne.Epochs`` object and creates EEG features based\n",
    "    on relative power in specific frequency bands that are compatible with\n",
    "    scikit-learn.\n",
    "\n",
    "    Parameters\n",
    "    ----------\n",
    "    epochs : Epochs\n",
    "        The data.\n",
    "\n",
    "    Returns\n",
    "    -------\n",
    "    X : numpy array of shape [n_samples, 5]\n",
    "        Transformed data.\n",
    "    \"\"\"\n",
    "    # specific frequency bands\n",
    "    FREQ_BANDS = {\n",
    "        \"delta\": [0.5, 4.5],\n",
    "        \"theta\": [4.5, 8.5],\n",
    "        \"alpha\": [8.5, 11.5],\n",
    "        \"sigma\": [11.5, 15.5],\n",
    "        \"beta\": [15.5, 30],\n",
    "    }\n",
    "\n",
    "    spectrum = epochs.compute_psd(picks=['data'], fmin=0.5, fmax=30.0)\n",
    "    psds, freqs = spectrum.get_data(return_freqs=True)\n",
    "    # Normalize the PSDs\n",
    "    psds /= np.sum(psds, axis=-1, keepdims=True)\n",
    "\n",
    "    X = []\n",
    "    for fmin, fmax in FREQ_BANDS.values():\n",
    "        psds_band = psds[:, :, (freqs >= fmin) & (freqs < fmax)].mean(axis=-1)\n",
    "        X.append(psds_band.reshape(len(psds), -1))\n",
    "\n",
    "    return np.concatenate(X, axis=1)"
   ]
  },
  {
   "cell_type": "code",
   "execution_count": null,
   "metadata": {},
   "outputs": [],
   "source": [
    "temp = eeg_power_band(concatenated_epochs)\n",
    "temp.shape"
   ]
  },
  {
   "cell_type": "code",
   "execution_count": null,
   "metadata": {},
   "outputs": [],
   "source": [
    "# temp.shape"
   ]
  },
  {
   "cell_type": "code",
   "execution_count": null,
   "metadata": {},
   "outputs": [],
   "source": [
    "# df = pd.DataFrame(temp)"
   ]
  },
  {
   "cell_type": "code",
   "execution_count": null,
   "metadata": {},
   "outputs": [],
   "source": [
    "# concatenated_epochs.shape"
   ]
  },
  {
   "cell_type": "code",
   "execution_count": null,
   "metadata": {},
   "outputs": [],
   "source": [
    "# test_epochs.shape"
   ]
  },
  {
   "cell_type": "code",
   "execution_count": null,
   "metadata": {},
   "outputs": [],
   "source": [
    "pipe = make_pipeline(\n",
    "    FunctionTransformer(eeg_power_band, validate=False),\n",
    "    RandomForestClassifier(n_estimators=100, random_state=42),\n",
    ")\n",
    "y = concatenated_epochs.events[:,2]\n",
    "# Train\n",
    "# y_train = epochs_train.events[:5, 2]\n",
    "\n",
    "pipe.fit(concatenated_epochs, y)\n",
    "\n",
    "# Test\n",
    "y_pred = pipe.predict(test_epochs)\n",
    "\n",
    "# # Assess the results\n",
    "y_test = test_epochs.events[:,2]\n",
    "acc = accuracy_score(y_test, y_pred)\n",
    "\n",
    "print(\"Accuracy score: {}\".format(acc))"
   ]
  },
  {
   "cell_type": "code",
   "execution_count": null,
   "metadata": {},
   "outputs": [],
   "source": [
    "# dump(pipe,\"model.joblib\")"
   ]
  },
  {
   "cell_type": "code",
   "execution_count": null,
   "metadata": {},
   "outputs": [],
   "source": []
  }
 ],
 "metadata": {
  "kernelspec": {
   "display_name": "Python 3",
   "language": "python",
   "name": "python3"
  },
  "language_info": {
   "codemirror_mode": {
    "name": "ipython",
    "version": 3
   },
   "file_extension": ".py",
   "mimetype": "text/x-python",
   "name": "python",
   "nbconvert_exporter": "python",
   "pygments_lexer": "ipython3",
   "version": "3.11.4"
  },
  "orig_nbformat": 4
 },
 "nbformat": 4,
 "nbformat_minor": 2
}
